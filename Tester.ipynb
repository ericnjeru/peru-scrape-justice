{
 "cells": [
  {
   "cell_type": "code",
   "execution_count": 1,
   "id": "4d65ee89",
   "metadata": {},
   "outputs": [],
   "source": [
    "import cleaner_functions"
   ]
  },
  {
   "cell_type": "code",
   "execution_count": 2,
   "id": "8686c3b3",
   "metadata": {
    "scrolled": false
   },
   "outputs": [],
   "source": [
    "a,b,c,d = cleaner_functions.scrape_data(\"D:/Accesos directos/Trabajo/World Bank/WB Repos/peru-scrape-master/data/2022/raw_html/ANCASH_JUZGADO DE PAZ LETRADO_CIVIL_file_num_7/00007-2022-0-0202-JP-CI-01.txt\")"
   ]
  },
  {
   "cell_type": "code",
   "execution_count": 8,
   "id": "99da1171",
   "metadata": {},
   "outputs": [],
   "source": [
    "e,f,g = cleaner_functions.csv_saver(a,b,c,d)"
   ]
  },
  {
   "cell_type": "code",
   "execution_count": 14,
   "id": "5665d0a3",
   "metadata": {},
   "outputs": [],
   "source": [
    "h, i, j = cleaner_functions.file_report_Cleaner(e)"
   ]
  },
  {
   "cell_type": "code",
   "execution_count": 15,
   "id": "ac53b774",
   "metadata": {},
   "outputs": [
    {
     "data": {
      "text/plain": [
       "['Expediente N°:',\n",
       " 'Órgano Jurisdiccional:',\n",
       " 'Distrito Judicial:',\n",
       " 'Juez:',\n",
       " 'Especialista Legal:',\n",
       " 'Fecha de Inicio:',\n",
       " 'Proceso:',\n",
       " 'Observación:',\n",
       " 'Especialidad:',\n",
       " 'Materia(s):',\n",
       " 'Estado:',\n",
       " 'Etapa Procesal:',\n",
       " 'Fecha Conclusión:',\n",
       " 'Ubicación:',\n",
       " 'Motivo Conclusión:',\n",
       " 'Sumilla:']"
      ]
     },
     "execution_count": 15,
     "metadata": {},
     "output_type": "execute_result"
    }
   ],
   "source": [
    "h"
   ]
  },
  {
   "cell_type": "code",
   "execution_count": 16,
   "id": "46fcece4",
   "metadata": {},
   "outputs": [
    {
     "data": {
      "text/plain": [
       "['00007-2022-0-0202-JP-CI-01',\n",
       " 'JUZGADO DE PAZ LETRADO - Sede Aija',\n",
       " 'ANCASH',\n",
       " 'ROBLES TORRES HIBETH LEGNNY',\n",
       " 'ESPARZA RODRIGUEZ PATRICIA ANTONIETA',\n",
       " '26/04/2022\\xa0',\n",
       " 'EXHORTO',\n",
       " '\\n\\t\\t\\t\\t\\t\\t\\t\\t\\t\\t\\t\\t\\n\\t\\t\\t\\t\\t\\t\\t\\t\\t\\t\\t\\t\\t----\\n\\t\\t\\t\\t\\t\\t\\t\\t\\t\\t\\t\\t\\t\\n\\t\\t\\t\\t\\t\\t\\t\\t\\t\\t\\t\\t\\n\\t\\t\\t\\t\\t\\t\\t\\t\\t\\t\\t',\n",
       " 'CIVIL',\n",
       " 'EXHORTO',\n",
       " 'EXHORTO DILIGENCIADO',\n",
       " 'GENERAL',\n",
       " '\\xa0',\n",
       " 'ESPECIALISTA',\n",
       " '-------',\n",
       " 'OFICIO N° 0166-2022-SECOM-SJR-USJ-GAD-CSJAN/PJ']"
      ]
     },
     "execution_count": 16,
     "metadata": {},
     "output_type": "execute_result"
    }
   ],
   "source": [
    "i"
   ]
  },
  {
   "cell_type": "code",
   "execution_count": 17,
   "id": "bd4f9977",
   "metadata": {},
   "outputs": [
    {
     "data": {
      "text/plain": [
       "{'Expediente N°:': '00007-2022-0-0202-JP-CI-01',\n",
       " 'Órgano Jurisdiccional:': 'JUZGADO DE PAZ LETRADO - Sede Aija',\n",
       " 'Distrito Judicial:': 'ANCASH',\n",
       " 'Juez:': 'ROBLES TORRES HIBETH LEGNNY',\n",
       " 'Especialista Legal:': 'ESPARZA RODRIGUEZ PATRICIA ANTONIETA',\n",
       " 'Fecha de Inicio:': '26/04/2022\\xa0',\n",
       " 'Proceso:': 'EXHORTO',\n",
       " 'Observación:': '\\n\\t\\t\\t\\t\\t\\t\\t\\t\\t\\t\\t\\t\\n\\t\\t\\t\\t\\t\\t\\t\\t\\t\\t\\t\\t\\t----\\n\\t\\t\\t\\t\\t\\t\\t\\t\\t\\t\\t\\t\\t\\n\\t\\t\\t\\t\\t\\t\\t\\t\\t\\t\\t\\t\\n\\t\\t\\t\\t\\t\\t\\t\\t\\t\\t\\t',\n",
       " 'Especialidad:': 'CIVIL',\n",
       " 'Materia(s):': 'EXHORTO',\n",
       " 'Estado:': 'EXHORTO DILIGENCIADO',\n",
       " 'Etapa Procesal:': 'GENERAL',\n",
       " 'Fecha Conclusión:': '\\xa0',\n",
       " 'Ubicación:': 'ESPECIALISTA',\n",
       " 'Motivo Conclusión:': '-------',\n",
       " 'Sumilla:': 'OFICIO N° 0166-2022-SECOM-SJR-USJ-GAD-CSJAN/PJ'}"
      ]
     },
     "execution_count": 17,
     "metadata": {},
     "output_type": "execute_result"
    }
   ],
   "source": [
    "j"
   ]
  }
 ],
 "metadata": {
  "kernelspec": {
   "display_name": "Python 3 (ipykernel)",
   "language": "python",
   "name": "python3"
  },
  "language_info": {
   "codemirror_mode": {
    "name": "ipython",
    "version": 3
   },
   "file_extension": ".py",
   "mimetype": "text/x-python",
   "name": "python",
   "nbconvert_exporter": "python",
   "pygments_lexer": "ipython3",
   "version": "3.7.3"
  }
 },
 "nbformat": 4,
 "nbformat_minor": 5
}
